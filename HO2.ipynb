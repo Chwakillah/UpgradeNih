{
  "cells": [
    {
      "cell_type": "code",
      "execution_count": 2,
      "metadata": {},
      "outputs": [
        {
          "name": "stdout",
          "output_type": "stream",
          "text": [
            "Collecting scikit-learn\n",
            "  Downloading scikit_learn-1.7.1-cp312-cp312-win_amd64.whl.metadata (11 kB)\n",
            "Requirement already satisfied: numpy>=1.22.0 in c:\\users\\user\\appdata\\local\\programs\\python\\python312\\lib\\site-packages (from scikit-learn) (2.3.1)\n",
            "Collecting scipy>=1.8.0 (from scikit-learn)\n",
            "  Downloading scipy-1.16.0-cp312-cp312-win_amd64.whl.metadata (60 kB)\n",
            "Requirement already satisfied: joblib>=1.2.0 in c:\\users\\user\\appdata\\local\\programs\\python\\python312\\lib\\site-packages (from scikit-learn) (1.5.1)\n",
            "Collecting threadpoolctl>=3.1.0 (from scikit-learn)\n",
            "  Downloading threadpoolctl-3.6.0-py3-none-any.whl.metadata (13 kB)\n",
            "Downloading scikit_learn-1.7.1-cp312-cp312-win_amd64.whl (8.7 MB)\n",
            "   ---------------------------------------- 0.0/8.7 MB ? eta -:--:--\n",
            "   -- ------------------------------------- 0.5/8.7 MB 2.8 MB/s eta 0:00:03\n",
            "   ---- ----------------------------------- 1.0/8.7 MB 3.0 MB/s eta 0:00:03\n",
            "   -------- ------------------------------- 1.8/8.7 MB 3.2 MB/s eta 0:00:03\n",
            "   ------------ --------------------------- 2.6/8.7 MB 3.4 MB/s eta 0:00:02\n",
            "   ---------------- ----------------------- 3.7/8.7 MB 3.6 MB/s eta 0:00:02\n",
            "   --------------------- ------------------ 4.7/8.7 MB 3.9 MB/s eta 0:00:02\n",
            "   --------------------------- ------------ 6.0/8.7 MB 4.3 MB/s eta 0:00:01\n",
            "   ---------------------------------- ----- 7.6/8.7 MB 4.7 MB/s eta 0:00:01\n",
            "   ---------------------------------------- 8.7/8.7 MB 4.8 MB/s eta 0:00:00\n",
            "Downloading scipy-1.16.0-cp312-cp312-win_amd64.whl (38.4 MB)\n",
            "   ---------------------------------------- 0.0/38.4 MB ? eta -:--:--\n",
            "   - -------------------------------------- 1.8/38.4 MB 10.1 MB/s eta 0:00:04\n",
            "   --- ------------------------------------ 3.1/38.4 MB 8.0 MB/s eta 0:00:05\n",
            "   ----- ---------------------------------- 5.5/38.4 MB 8.8 MB/s eta 0:00:04\n",
            "   -------- ------------------------------- 8.1/38.4 MB 9.7 MB/s eta 0:00:04\n",
            "   ----------- ---------------------------- 11.3/38.4 MB 10.7 MB/s eta 0:00:03\n",
            "   -------------- ------------------------- 14.2/38.4 MB 11.3 MB/s eta 0:00:03\n",
            "   ------------------ --------------------- 17.3/38.4 MB 11.9 MB/s eta 0:00:02\n",
            "   --------------------- ------------------ 20.2/38.4 MB 11.9 MB/s eta 0:00:02\n",
            "   ----------------------- ---------------- 22.3/38.4 MB 11.8 MB/s eta 0:00:02\n",
            "   ------------------------- -------------- 24.9/38.4 MB 11.7 MB/s eta 0:00:02\n",
            "   ---------------------------- ----------- 27.5/38.4 MB 11.8 MB/s eta 0:00:01\n",
            "   ------------------------------- -------- 30.1/38.4 MB 11.9 MB/s eta 0:00:01\n",
            "   ---------------------------------- ----- 33.0/38.4 MB 12.0 MB/s eta 0:00:01\n",
            "   ------------------------------------ --- 34.9/38.4 MB 11.9 MB/s eta 0:00:01\n",
            "   ---------------------------------------  37.5/38.4 MB 11.9 MB/s eta 0:00:01\n",
            "   ---------------------------------------- 38.4/38.4 MB 11.5 MB/s eta 0:00:00\n",
            "Downloading threadpoolctl-3.6.0-py3-none-any.whl (18 kB)\n",
            "Installing collected packages: threadpoolctl, scipy, scikit-learn\n",
            "\n",
            "   ------------- -------------------------- 1/3 [scipy]\n",
            "   ------------- -------------------------- 1/3 [scipy]\n",
            "   ------------- -------------------------- 1/3 [scipy]\n",
            "   ------------- -------------------------- 1/3 [scipy]\n",
            "   ------------- -------------------------- 1/3 [scipy]\n",
            "   ------------- -------------------------- 1/3 [scipy]\n",
            "   ------------- -------------------------- 1/3 [scipy]\n",
            "   ------------- -------------------------- 1/3 [scipy]\n",
            "   ------------- -------------------------- 1/3 [scipy]\n",
            "   ------------- -------------------------- 1/3 [scipy]\n",
            "   ------------- -------------------------- 1/3 [scipy]\n",
            "   ------------- -------------------------- 1/3 [scipy]\n",
            "   ------------- -------------------------- 1/3 [scipy]\n",
            "   ------------- -------------------------- 1/3 [scipy]\n",
            "   ------------- -------------------------- 1/3 [scipy]\n",
            "   ------------- -------------------------- 1/3 [scipy]\n",
            "   ------------- -------------------------- 1/3 [scipy]\n",
            "   ------------- -------------------------- 1/3 [scipy]\n",
            "   ------------- -------------------------- 1/3 [scipy]\n",
            "   ------------- -------------------------- 1/3 [scipy]\n",
            "   ------------- -------------------------- 1/3 [scipy]\n",
            "   ------------- -------------------------- 1/3 [scipy]\n",
            "   ------------- -------------------------- 1/3 [scipy]\n",
            "   ------------- -------------------------- 1/3 [scipy]\n",
            "   ------------- -------------------------- 1/3 [scipy]\n",
            "   ------------- -------------------------- 1/3 [scipy]\n",
            "   ------------- -------------------------- 1/3 [scipy]\n",
            "   ------------- -------------------------- 1/3 [scipy]\n",
            "   ------------- -------------------------- 1/3 [scipy]\n",
            "   ------------- -------------------------- 1/3 [scipy]\n",
            "   ------------- -------------------------- 1/3 [scipy]\n",
            "   ------------- -------------------------- 1/3 [scipy]\n",
            "   ------------- -------------------------- 1/3 [scipy]\n",
            "   ------------- -------------------------- 1/3 [scipy]\n",
            "   ------------- -------------------------- 1/3 [scipy]\n",
            "   ------------- -------------------------- 1/3 [scipy]\n",
            "   ------------- -------------------------- 1/3 [scipy]\n",
            "   ------------- -------------------------- 1/3 [scipy]\n",
            "   ------------- -------------------------- 1/3 [scipy]\n",
            "   ------------- -------------------------- 1/3 [scipy]\n",
            "   ------------- -------------------------- 1/3 [scipy]\n",
            "   ------------- -------------------------- 1/3 [scipy]\n",
            "   ------------- -------------------------- 1/3 [scipy]\n",
            "   ------------- -------------------------- 1/3 [scipy]\n",
            "   ------------- -------------------------- 1/3 [scipy]\n",
            "   ------------- -------------------------- 1/3 [scipy]\n",
            "   ------------- -------------------------- 1/3 [scipy]\n",
            "   ------------- -------------------------- 1/3 [scipy]\n",
            "   ------------- -------------------------- 1/3 [scipy]\n",
            "   ------------- -------------------------- 1/3 [scipy]\n",
            "   ------------- -------------------------- 1/3 [scipy]\n",
            "   ------------- -------------------------- 1/3 [scipy]\n",
            "   ------------- -------------------------- 1/3 [scipy]\n",
            "   ------------- -------------------------- 1/3 [scipy]\n",
            "   ------------- -------------------------- 1/3 [scipy]\n",
            "   ------------- -------------------------- 1/3 [scipy]\n",
            "   ------------- -------------------------- 1/3 [scipy]\n",
            "   ------------- -------------------------- 1/3 [scipy]\n",
            "   ------------- -------------------------- 1/3 [scipy]\n",
            "   ------------- -------------------------- 1/3 [scipy]\n",
            "   ------------- -------------------------- 1/3 [scipy]\n",
            "   ------------- -------------------------- 1/3 [scipy]\n",
            "   ------------- -------------------------- 1/3 [scipy]\n",
            "   ------------- -------------------------- 1/3 [scipy]\n",
            "   ------------- -------------------------- 1/3 [scipy]\n",
            "   ------------- -------------------------- 1/3 [scipy]\n",
            "   ------------- -------------------------- 1/3 [scipy]\n",
            "   ------------- -------------------------- 1/3 [scipy]\n",
            "   ------------- -------------------------- 1/3 [scipy]\n",
            "   ------------- -------------------------- 1/3 [scipy]\n",
            "   ------------- -------------------------- 1/3 [scipy]\n",
            "   ------------- -------------------------- 1/3 [scipy]\n",
            "   ------------- -------------------------- 1/3 [scipy]\n",
            "   ------------- -------------------------- 1/3 [scipy]\n",
            "   ------------- -------------------------- 1/3 [scipy]\n",
            "   ------------- -------------------------- 1/3 [scipy]\n",
            "   ------------- -------------------------- 1/3 [scipy]\n",
            "   ------------- -------------------------- 1/3 [scipy]\n",
            "   ------------- -------------------------- 1/3 [scipy]\n",
            "   ------------- -------------------------- 1/3 [scipy]\n",
            "   ------------- -------------------------- 1/3 [scipy]\n",
            "   ------------- -------------------------- 1/3 [scipy]\n",
            "   ------------- -------------------------- 1/3 [scipy]\n",
            "   ------------- -------------------------- 1/3 [scipy]\n",
            "   ------------- -------------------------- 1/3 [scipy]\n",
            "   ------------- -------------------------- 1/3 [scipy]\n",
            "   ------------- -------------------------- 1/3 [scipy]\n",
            "   ------------- -------------------------- 1/3 [scipy]\n",
            "   ------------- -------------------------- 1/3 [scipy]\n",
            "   ------------- -------------------------- 1/3 [scipy]\n",
            "   ------------- -------------------------- 1/3 [scipy]\n",
            "   ------------- -------------------------- 1/3 [scipy]\n",
            "   ------------- -------------------------- 1/3 [scipy]\n",
            "   ------------- -------------------------- 1/3 [scipy]\n",
            "   ------------- -------------------------- 1/3 [scipy]\n",
            "   ------------- -------------------------- 1/3 [scipy]\n",
            "   ------------- -------------------------- 1/3 [scipy]\n",
            "   ------------- -------------------------- 1/3 [scipy]\n",
            "   ------------- -------------------------- 1/3 [scipy]\n",
            "   ------------- -------------------------- 1/3 [scipy]\n",
            "   ------------- -------------------------- 1/3 [scipy]\n",
            "   ------------- -------------------------- 1/3 [scipy]\n",
            "   ------------- -------------------------- 1/3 [scipy]\n",
            "   ------------- -------------------------- 1/3 [scipy]\n",
            "   ------------- -------------------------- 1/3 [scipy]\n",
            "   ------------- -------------------------- 1/3 [scipy]\n",
            "   ------------- -------------------------- 1/3 [scipy]\n",
            "   ------------- -------------------------- 1/3 [scipy]\n",
            "   ------------- -------------------------- 1/3 [scipy]\n",
            "   ------------- -------------------------- 1/3 [scipy]\n",
            "   ------------- -------------------------- 1/3 [scipy]\n",
            "   ------------- -------------------------- 1/3 [scipy]\n",
            "   ------------- -------------------------- 1/3 [scipy]\n",
            "   ------------- -------------------------- 1/3 [scipy]\n",
            "   ------------- -------------------------- 1/3 [scipy]\n",
            "   ------------- -------------------------- 1/3 [scipy]\n",
            "   ------------- -------------------------- 1/3 [scipy]\n",
            "   ------------- -------------------------- 1/3 [scipy]\n",
            "   ------------- -------------------------- 1/3 [scipy]\n",
            "   -------------------------- ------------- 2/3 [scikit-learn]\n",
            "   -------------------------- ------------- 2/3 [scikit-learn]\n",
            "   -------------------------- ------------- 2/3 [scikit-learn]\n",
            "   -------------------------- ------------- 2/3 [scikit-learn]\n",
            "   -------------------------- ------------- 2/3 [scikit-learn]\n",
            "   -------------------------- ------------- 2/3 [scikit-learn]\n",
            "   -------------------------- ------------- 2/3 [scikit-learn]\n",
            "   -------------------------- ------------- 2/3 [scikit-learn]\n",
            "   -------------------------- ------------- 2/3 [scikit-learn]\n",
            "   -------------------------- ------------- 2/3 [scikit-learn]\n",
            "   -------------------------- ------------- 2/3 [scikit-learn]\n",
            "   -------------------------- ------------- 2/3 [scikit-learn]\n",
            "   -------------------------- ------------- 2/3 [scikit-learn]\n",
            "   -------------------------- ------------- 2/3 [scikit-learn]\n",
            "   -------------------------- ------------- 2/3 [scikit-learn]\n",
            "   -------------------------- ------------- 2/3 [scikit-learn]\n",
            "   -------------------------- ------------- 2/3 [scikit-learn]\n",
            "   -------------------------- ------------- 2/3 [scikit-learn]\n",
            "   -------------------------- ------------- 2/3 [scikit-learn]\n",
            "   -------------------------- ------------- 2/3 [scikit-learn]\n",
            "   -------------------------- ------------- 2/3 [scikit-learn]\n",
            "   -------------------------- ------------- 2/3 [scikit-learn]\n",
            "   -------------------------- ------------- 2/3 [scikit-learn]\n",
            "   -------------------------- ------------- 2/3 [scikit-learn]\n",
            "   -------------------------- ------------- 2/3 [scikit-learn]\n",
            "   -------------------------- ------------- 2/3 [scikit-learn]\n",
            "   -------------------------- ------------- 2/3 [scikit-learn]\n",
            "   -------------------------- ------------- 2/3 [scikit-learn]\n",
            "   -------------------------- ------------- 2/3 [scikit-learn]\n",
            "   -------------------------- ------------- 2/3 [scikit-learn]\n",
            "   -------------------------- ------------- 2/3 [scikit-learn]\n",
            "   -------------------------- ------------- 2/3 [scikit-learn]\n",
            "   -------------------------- ------------- 2/3 [scikit-learn]\n",
            "   -------------------------- ------------- 2/3 [scikit-learn]\n",
            "   -------------------------- ------------- 2/3 [scikit-learn]\n",
            "   -------------------------- ------------- 2/3 [scikit-learn]\n",
            "   -------------------------- ------------- 2/3 [scikit-learn]\n",
            "   -------------------------- ------------- 2/3 [scikit-learn]\n",
            "   -------------------------- ------------- 2/3 [scikit-learn]\n",
            "   -------------------------- ------------- 2/3 [scikit-learn]\n",
            "   -------------------------- ------------- 2/3 [scikit-learn]\n",
            "   -------------------------- ------------- 2/3 [scikit-learn]\n",
            "   -------------------------- ------------- 2/3 [scikit-learn]\n",
            "   -------------------------- ------------- 2/3 [scikit-learn]\n",
            "   -------------------------- ------------- 2/3 [scikit-learn]\n",
            "   -------------------------- ------------- 2/3 [scikit-learn]\n",
            "   -------------------------- ------------- 2/3 [scikit-learn]\n",
            "   -------------------------- ------------- 2/3 [scikit-learn]\n",
            "   -------------------------- ------------- 2/3 [scikit-learn]\n",
            "   -------------------------- ------------- 2/3 [scikit-learn]\n",
            "   -------------------------- ------------- 2/3 [scikit-learn]\n",
            "   -------------------------- ------------- 2/3 [scikit-learn]\n",
            "   -------------------------- ------------- 2/3 [scikit-learn]\n",
            "   -------------------------- ------------- 2/3 [scikit-learn]\n",
            "   -------------------------- ------------- 2/3 [scikit-learn]\n",
            "   -------------------------- ------------- 2/3 [scikit-learn]\n",
            "   -------------------------- ------------- 2/3 [scikit-learn]\n",
            "   -------------------------- ------------- 2/3 [scikit-learn]\n",
            "   -------------------------- ------------- 2/3 [scikit-learn]\n",
            "   -------------------------- ------------- 2/3 [scikit-learn]\n",
            "   -------------------------- ------------- 2/3 [scikit-learn]\n",
            "   -------------------------- ------------- 2/3 [scikit-learn]\n",
            "   -------------------------- ------------- 2/3 [scikit-learn]\n",
            "   -------------------------- ------------- 2/3 [scikit-learn]\n",
            "   -------------------------- ------------- 2/3 [scikit-learn]\n",
            "   -------------------------- ------------- 2/3 [scikit-learn]\n",
            "   -------------------------- ------------- 2/3 [scikit-learn]\n",
            "   -------------------------- ------------- 2/3 [scikit-learn]\n",
            "   -------------------------- ------------- 2/3 [scikit-learn]\n",
            "   -------------------------- ------------- 2/3 [scikit-learn]\n",
            "   ---------------------------------------- 3/3 [scikit-learn]\n",
            "\n",
            "Successfully installed scikit-learn-1.7.1 scipy-1.16.0 threadpoolctl-3.6.0\n",
            "Note: you may need to restart the kernel to use updated packages.\n"
          ]
        }
      ],
      "source": [
        "%pip install scikit-learn\n"
      ]
    },
    {
      "cell_type": "code",
      "execution_count": 7,
      "metadata": {
        "id": "twTHUpfTY7Ns"
      },
      "outputs": [],
      "source": [
        "import pandas as pd\n",
        "import re\n",
        "import nltk\n",
        "from nltk.stem.porter import PorterStemmer\n",
        "from sklearn.feature_extraction.text import TfidfVectorizer\n",
        "from sklearn.metrics.pairwise import cosine_similarity"
      ]
    },
    {
      "cell_type": "code",
      "execution_count": 4,
      "metadata": {
        "colab": {
          "base_uri": "https://localhost:8080/"
        },
        "id": "5JLY9qOpY-xY",
        "outputId": "3f690bd1-c667-4e99-b999-5166ee97b39b"
      },
      "outputs": [
        {
          "name": "stderr",
          "output_type": "stream",
          "text": [
            "[nltk_data] Downloading package punkt to\n",
            "[nltk_data]     C:\\Users\\User\\AppData\\Roaming\\nltk_data...\n",
            "[nltk_data]   Package punkt is already up-to-date!\n"
          ]
        }
      ],
      "source": [
        "nltk.download('punkt')\n",
        "ps = PorterStemmer()"
      ]
    },
    {
      "cell_type": "markdown",
      "metadata": {
        "id": "_W3GNyO7c0Bw"
      },
      "source": [
        "#Prepocessing"
      ]
    },
    {
      "cell_type": "code",
      "execution_count": 5,
      "metadata": {
        "id": "GmQSaqqGY_iq"
      },
      "outputs": [],
      "source": [
        "def preprocess_text(text):\n",
        "    text = text.lower()\n",
        "    text = re.sub(r'[^a-zA-Z\\s]', ' ', text)\n",
        "    text = re.sub(r'\\s+', ' ', text)\n",
        "    words = text.split()\n",
        "    words = [ps.stem(word) for word in words]\n",
        "    return \" \".join(words)"
      ]
    },
    {
      "cell_type": "markdown",
      "metadata": {
        "id": "kllzYrLXc2ne"
      },
      "source": [
        "#Worklist Dataset"
      ]
    },
    {
      "cell_type": "code",
      "execution_count": 6,
      "metadata": {
        "id": "qjb-Z2feZFEc"
      },
      "outputs": [
        {
          "name": "stderr",
          "output_type": "stream",
          "text": [
            "<>:1: SyntaxWarning: invalid escape sequence '\\S'\n",
            "<>:1: SyntaxWarning: invalid escape sequence '\\S'\n",
            "C:\\Users\\User\\AppData\\Local\\Temp\\ipykernel_31040\\3914040976.py:1: SyntaxWarning: invalid escape sequence '\\S'\n",
            "  worklist_df = pd.read_excel(\"D:\\SISTECH\\hands-on2\\scrapping\\coursera_worklist.xlsx\")\n"
          ]
        }
      ],
      "source": [
        "worklist_df = pd.read_excel(\"D:\\SISTECH\\hands-on2\\scrapping\\coursera_worklist.xlsx\")"
      ]
    },
    {
      "cell_type": "code",
      "execution_count": 9,
      "metadata": {
        "colab": {
          "base_uri": "https://localhost:8080/",
          "height": 1000
        },
        "id": "mCnd4yq7bL5t",
        "outputId": "265b3d6f-e264-4ba8-d329-30739802bd61"
      },
      "outputs": [
        {
          "data": {
            "text/html": [
              "<div>\n",
              "<style scoped>\n",
              "    .dataframe tbody tr th:only-of-type {\n",
              "        vertical-align: middle;\n",
              "    }\n",
              "\n",
              "    .dataframe tbody tr th {\n",
              "        vertical-align: top;\n",
              "    }\n",
              "\n",
              "    .dataframe thead th {\n",
              "        text-align: right;\n",
              "    }\n",
              "</style>\n",
              "<table border=\"1\" class=\"dataframe\">\n",
              "  <thead>\n",
              "    <tr style=\"text-align: right;\">\n",
              "      <th></th>\n",
              "      <th>Job</th>\n",
              "      <th>Role Summary</th>\n",
              "    </tr>\n",
              "  </thead>\n",
              "  <tbody>\n",
              "    <tr>\n",
              "      <th>0</th>\n",
              "      <td>Data Analyst</td>\n",
              "      <td>A Data Analyst collects, cleans, and interpret...</td>\n",
              "    </tr>\n",
              "    <tr>\n",
              "      <th>1</th>\n",
              "      <td>Computer Support Specialist</td>\n",
              "      <td>A Computer Support Specialist provides technic...</td>\n",
              "    </tr>\n",
              "    <tr>\n",
              "      <th>2</th>\n",
              "      <td>Business Intelligence Analyst</td>\n",
              "      <td>A Business Intelligence Analyst analyzes and v...</td>\n",
              "    </tr>\n",
              "    <tr>\n",
              "      <th>3</th>\n",
              "      <td>Data Scientist</td>\n",
              "      <td>A Data Scientist analyzes large datasets to un...</td>\n",
              "    </tr>\n",
              "    <tr>\n",
              "      <th>4</th>\n",
              "      <td>UI/UX Designer</td>\n",
              "      <td>A UI/UX Designer creates and refines digital i...</td>\n",
              "    </tr>\n",
              "  </tbody>\n",
              "</table>\n",
              "</div>"
            ],
            "text/plain": [
              "                             Job  \\\n",
              "0                   Data Analyst   \n",
              "1    Computer Support Specialist   \n",
              "2  Business Intelligence Analyst   \n",
              "3                 Data Scientist   \n",
              "4                 UI/UX Designer   \n",
              "\n",
              "                                        Role Summary  \n",
              "0  A Data Analyst collects, cleans, and interpret...  \n",
              "1  A Computer Support Specialist provides technic...  \n",
              "2  A Business Intelligence Analyst analyzes and v...  \n",
              "3  A Data Scientist analyzes large datasets to un...  \n",
              "4  A UI/UX Designer creates and refines digital i...  "
            ]
          },
          "execution_count": 9,
          "metadata": {},
          "output_type": "execute_result"
        }
      ],
      "source": [
        "worklist_df.head()"
      ]
    },
    {
      "cell_type": "code",
      "execution_count": 11,
      "metadata": {
        "colab": {
          "base_uri": "https://localhost:8080/"
        },
        "id": "KNinQoN8bxVF",
        "outputId": "534e70c5-818f-4768-ac34-07db1ab5c58e"
      },
      "outputs": [
        {
          "data": {
            "text/plain": [
              "(58, 2)"
            ]
          },
          "execution_count": 11,
          "metadata": {},
          "output_type": "execute_result"
        }
      ],
      "source": [
        "worklist_df.shape"
      ]
    },
    {
      "cell_type": "code",
      "execution_count": 12,
      "metadata": {
        "colab": {
          "base_uri": "https://localhost:8080/"
        },
        "id": "T1ivIGZpb6kF",
        "outputId": "6b91f3db-f62e-4719-bd85-3afceed90857"
      },
      "outputs": [
        {
          "name": "stdout",
          "output_type": "stream",
          "text": [
            "<class 'pandas.core.frame.DataFrame'>\n",
            "RangeIndex: 58 entries, 0 to 57\n",
            "Data columns (total 2 columns):\n",
            " #   Column        Non-Null Count  Dtype \n",
            "---  ------        --------------  ----- \n",
            " 0   Job           58 non-null     object\n",
            " 1   Role Summary  58 non-null     object\n",
            "dtypes: object(2)\n",
            "memory usage: 1.0+ KB\n"
          ]
        }
      ],
      "source": [
        "worklist_df.info()"
      ]
    },
    {
      "cell_type": "markdown",
      "metadata": {
        "id": "WZ35iRkfc6lJ"
      },
      "source": [
        "#Coursera Courses Dataaset 2025"
      ]
    },
    {
      "cell_type": "code",
      "execution_count": 13,
      "metadata": {
        "id": "RQ4oDtUWbOyD"
      },
      "outputs": [
        {
          "name": "stderr",
          "output_type": "stream",
          "text": [
            "<>:1: SyntaxWarning: invalid escape sequence '\\S'\n",
            "<>:1: SyntaxWarning: invalid escape sequence '\\S'\n",
            "C:\\Users\\User\\AppData\\Local\\Temp\\ipykernel_31040\\1876299302.py:1: SyntaxWarning: invalid escape sequence '\\S'\n",
            "  courses_df = pd.read_excel(\"D:\\SISTECH\\hands-on2\\scrapping\\coursera_courses_2025.xlsx\")\n"
          ]
        }
      ],
      "source": [
        "courses_df = pd.read_excel(\"D:\\SISTECH\\hands-on2\\scrapping\\coursera_courses_2025.xlsx\")"
      ]
    },
    {
      "cell_type": "code",
      "execution_count": 14,
      "metadata": {
        "colab": {
          "base_uri": "https://localhost:8080/",
          "height": 310
        },
        "id": "aeDgfXwrcCRD",
        "outputId": "d4980be1-09e7-426b-cf40-c4709c1a6535"
      },
      "outputs": [
        {
          "data": {
            "text/html": [
              "<div>\n",
              "<style scoped>\n",
              "    .dataframe tbody tr th:only-of-type {\n",
              "        vertical-align: middle;\n",
              "    }\n",
              "\n",
              "    .dataframe tbody tr th {\n",
              "        vertical-align: top;\n",
              "    }\n",
              "\n",
              "    .dataframe thead th {\n",
              "        text-align: right;\n",
              "    }\n",
              "</style>\n",
              "<table border=\"1\" class=\"dataframe\">\n",
              "  <thead>\n",
              "    <tr style=\"text-align: right;\">\n",
              "      <th></th>\n",
              "      <th>Lembaga</th>\n",
              "      <th>Kursus</th>\n",
              "      <th>Skill</th>\n",
              "      <th>Rating</th>\n",
              "      <th>Review</th>\n",
              "      <th>Level</th>\n",
              "      <th>Preview Image</th>\n",
              "      <th>Course Link</th>\n",
              "      <th>Type</th>\n",
              "      <th>Course Duration</th>\n",
              "    </tr>\n",
              "  </thead>\n",
              "  <tbody>\n",
              "    <tr>\n",
              "      <th>0</th>\n",
              "      <td>IBM</td>\n",
              "      <td>Introduction to Artificial Intelligence (AI)</td>\n",
              "      <td>Skills you'll gain:Generative AI, ChatGPT, Nat...</td>\n",
              "      <td>4.7</td>\n",
              "      <td>20K reviews</td>\n",
              "      <td>Beginner</td>\n",
              "      <td>https://d3njjcbhbojbot.cloudfront.net/api/util...</td>\n",
              "      <td>https://www.coursera.org/learn/introduction-to-ai</td>\n",
              "      <td>Course</td>\n",
              "      <td>1 - 4 Weeks</td>\n",
              "    </tr>\n",
              "    <tr>\n",
              "      <th>1</th>\n",
              "      <td>DeepLearning.AI</td>\n",
              "      <td>AI For Everyone</td>\n",
              "      <td>Skills you'll gain:Data Ethics, Market Opportu...</td>\n",
              "      <td>4.8</td>\n",
              "      <td>48K reviews</td>\n",
              "      <td>Beginner</td>\n",
              "      <td>https://d3njjcbhbojbot.cloudfront.net/api/util...</td>\n",
              "      <td>https://www.coursera.org/learn/ai-for-everyone</td>\n",
              "      <td>Course</td>\n",
              "      <td>1 - 4 Weeks</td>\n",
              "    </tr>\n",
              "    <tr>\n",
              "      <th>2</th>\n",
              "      <td>IBM</td>\n",
              "      <td>AI Foundations for Everyone</td>\n",
              "      <td>Skills you'll gain:Prompt Engineering, ChatGPT...</td>\n",
              "      <td>4.7</td>\n",
              "      <td>29K reviews</td>\n",
              "      <td>Beginner</td>\n",
              "      <td>https://d3njjcbhbojbot.cloudfront.net/api/util...</td>\n",
              "      <td>https://www.coursera.org/specializations/ai-fo...</td>\n",
              "      <td>Specialization</td>\n",
              "      <td>3 - 6 Months</td>\n",
              "    </tr>\n",
              "    <tr>\n",
              "      <th>3</th>\n",
              "      <td>IBM</td>\n",
              "      <td>IBM AI Developer</td>\n",
              "      <td>Skills you'll gain:Prompt Engineering, Softwar...</td>\n",
              "      <td>4.6</td>\n",
              "      <td>72K reviews</td>\n",
              "      <td>Beginner</td>\n",
              "      <td>https://d3njjcbhbojbot.cloudfront.net/api/util...</td>\n",
              "      <td>https://www.coursera.org/professional-certific...</td>\n",
              "      <td>Professional Certificate</td>\n",
              "      <td>3 - 6 Months</td>\n",
              "    </tr>\n",
              "    <tr>\n",
              "      <th>4</th>\n",
              "      <td>Google</td>\n",
              "      <td>Google AI Essentials</td>\n",
              "      <td>Skills you'll gain:Prompt Engineering, Generat...</td>\n",
              "      <td>4.8</td>\n",
              "      <td>3.3K reviews</td>\n",
              "      <td>Beginner</td>\n",
              "      <td>https://d3njjcbhbojbot.cloudfront.net/api/util...</td>\n",
              "      <td>https://www.coursera.org/specializations/ai-es...</td>\n",
              "      <td>Specialization</td>\n",
              "      <td>1 - 3 Months</td>\n",
              "    </tr>\n",
              "  </tbody>\n",
              "</table>\n",
              "</div>"
            ],
            "text/plain": [
              "           Lembaga                                        Kursus  \\\n",
              "0              IBM  Introduction to Artificial Intelligence (AI)   \n",
              "1  DeepLearning.AI                               AI For Everyone   \n",
              "2              IBM                   AI Foundations for Everyone   \n",
              "3              IBM                              IBM AI Developer   \n",
              "4           Google                          Google AI Essentials   \n",
              "\n",
              "                                               Skill  Rating        Review  \\\n",
              "0  Skills you'll gain:Generative AI, ChatGPT, Nat...     4.7   20K reviews   \n",
              "1  Skills you'll gain:Data Ethics, Market Opportu...     4.8   48K reviews   \n",
              "2  Skills you'll gain:Prompt Engineering, ChatGPT...     4.7   29K reviews   \n",
              "3  Skills you'll gain:Prompt Engineering, Softwar...     4.6   72K reviews   \n",
              "4  Skills you'll gain:Prompt Engineering, Generat...     4.8  3.3K reviews   \n",
              "\n",
              "      Level                                      Preview Image  \\\n",
              "0  Beginner  https://d3njjcbhbojbot.cloudfront.net/api/util...   \n",
              "1  Beginner  https://d3njjcbhbojbot.cloudfront.net/api/util...   \n",
              "2  Beginner  https://d3njjcbhbojbot.cloudfront.net/api/util...   \n",
              "3  Beginner  https://d3njjcbhbojbot.cloudfront.net/api/util...   \n",
              "4  Beginner  https://d3njjcbhbojbot.cloudfront.net/api/util...   \n",
              "\n",
              "                                         Course Link  \\\n",
              "0  https://www.coursera.org/learn/introduction-to-ai   \n",
              "1     https://www.coursera.org/learn/ai-for-everyone   \n",
              "2  https://www.coursera.org/specializations/ai-fo...   \n",
              "3  https://www.coursera.org/professional-certific...   \n",
              "4  https://www.coursera.org/specializations/ai-es...   \n",
              "\n",
              "                       Type Course Duration  \n",
              "0                    Course     1 - 4 Weeks  \n",
              "1                    Course     1 - 4 Weeks  \n",
              "2            Specialization    3 - 6 Months  \n",
              "3  Professional Certificate    3 - 6 Months  \n",
              "4            Specialization    1 - 3 Months  "
            ]
          },
          "execution_count": 14,
          "metadata": {},
          "output_type": "execute_result"
        }
      ],
      "source": [
        "courses_df.head()"
      ]
    },
    {
      "cell_type": "code",
      "execution_count": 15,
      "metadata": {
        "colab": {
          "base_uri": "https://localhost:8080/",
          "height": 366
        },
        "id": "UL6_MVb7cJRi",
        "outputId": "28fbd53c-f05a-4d45-c8fd-e5a39d9d0f49"
      },
      "outputs": [
        {
          "data": {
            "text/plain": [
              "Level\n",
              "Beginner                2854\n",
              "Intermediate            1803\n",
              "Mixed                    357\n",
              "Advanced                 208\n",
              "Degree                     8\n",
              "Graduate Certificate       1\n",
              "Mastertrack                1\n",
              "Postgraduate Diploma       1\n",
              "Name: count, dtype: int64"
            ]
          },
          "execution_count": 15,
          "metadata": {},
          "output_type": "execute_result"
        }
      ],
      "source": [
        "courses_df['Level'].value_counts()"
      ]
    },
    {
      "cell_type": "code",
      "execution_count": 16,
      "metadata": {
        "colab": {
          "base_uri": "https://localhost:8080/",
          "height": 1000
        },
        "id": "a2UFamR6cMaP",
        "outputId": "2e6c11c2-0fc5-4993-962c-8b31dcece3b4"
      },
      "outputs": [
        {
          "data": {
            "text/plain": [
              "Rating\n",
              "4.7    877\n",
              "4.6    707\n",
              "4.8    699\n",
              "4.5    392\n",
              "4.4    268\n",
              "4.9    233\n",
              "4.3    160\n",
              "4.2     91\n",
              "5.0     71\n",
              "4.0     61\n",
              "4.1     60\n",
              "3.9     39\n",
              "3.8     34\n",
              "3.7     30\n",
              "3.5     13\n",
              "3.6     12\n",
              "3.2      8\n",
              "3.4      7\n",
              "3.1      5\n",
              "2.9      4\n",
              "2.8      4\n",
              "3.3      4\n",
              "2.6      2\n",
              "1.8      1\n",
              "2.7      1\n",
              "2.3      1\n",
              "2.0      1\n",
              "3.0      1\n",
              "2.1      1\n",
              "1.7      1\n",
              "Name: count, dtype: int64"
            ]
          },
          "execution_count": 16,
          "metadata": {},
          "output_type": "execute_result"
        }
      ],
      "source": [
        "courses_df['Rating'].value_counts()"
      ]
    },
    {
      "cell_type": "code",
      "execution_count": 17,
      "metadata": {
        "colab": {
          "base_uri": "https://localhost:8080/",
          "height": 490
        },
        "id": "0zZ5GJsccXeP",
        "outputId": "76baf359-c909-4f21-e701-b48fa17f7d49"
      },
      "outputs": [
        {
          "data": {
            "text/plain": [
              "Lembaga\n",
              "Coursera Project Network              630\n",
              "Google Cloud                          381\n",
              "Packt                                 281\n",
              "Microsoft                             238\n",
              "IBM                                   215\n",
              "                                     ... \n",
              "INSEAD                                  1\n",
              "American Museum of Natural History      1\n",
              "Ball State University                   1\n",
              "Tufts University                        1\n",
              "Goodwill Industries International       1\n",
              "Name: count, Length: 257, dtype: int64"
            ]
          },
          "execution_count": 17,
          "metadata": {},
          "output_type": "execute_result"
        }
      ],
      "source": [
        "courses_df['Lembaga'].value_counts()"
      ]
    },
    {
      "cell_type": "code",
      "execution_count": 18,
      "metadata": {
        "colab": {
          "base_uri": "https://localhost:8080/"
        },
        "id": "15CP-anCb-rd",
        "outputId": "64c620c5-77cb-42b0-d116-3cabe40d237c"
      },
      "outputs": [
        {
          "data": {
            "text/plain": [
              "(5233, 10)"
            ]
          },
          "execution_count": 18,
          "metadata": {},
          "output_type": "execute_result"
        }
      ],
      "source": [
        "courses_df.shape"
      ]
    },
    {
      "cell_type": "markdown",
      "metadata": {
        "id": "KHbpoEyvc_wZ"
      },
      "source": [
        "#Feature Selection"
      ]
    },
    {
      "cell_type": "code",
      "execution_count": 19,
      "metadata": {
        "id": "26GzCGIDZIgG"
      },
      "outputs": [],
      "source": [
        "courses_df = courses_df[['Kursus', 'Skill', 'Level', 'Course Link']]"
      ]
    },
    {
      "cell_type": "code",
      "execution_count": 20,
      "metadata": {
        "id": "x7GifNOFZKyc"
      },
      "outputs": [],
      "source": [
        "courses_df['Skill'] = courses_df['Skill'].str.replace('Skillsyoullgain', '', regex=False)"
      ]
    },
    {
      "cell_type": "code",
      "execution_count": 21,
      "metadata": {
        "id": "oE_SXIU1bYHi"
      },
      "outputs": [],
      "source": [
        "courses_df['tags'] = courses_df['Kursus'].fillna('') + ' ' + courses_df['Skill'].fillna('') + ' ' + courses_df['Level'].fillna('')"
      ]
    },
    {
      "cell_type": "code",
      "execution_count": 22,
      "metadata": {
        "id": "7_OG4OeNbbkR"
      },
      "outputs": [],
      "source": [
        "courses_df['tags'] = courses_df['tags'].apply(preprocess_text)"
      ]
    },
    {
      "cell_type": "code",
      "execution_count": 23,
      "metadata": {
        "id": "UHiVuYwVZNqE"
      },
      "outputs": [],
      "source": [
        "worklist_df['combined_text'] = worklist_df['Job'].fillna('') + ' ' + worklist_df['Role Summary'].fillna('')\n"
      ]
    },
    {
      "cell_type": "code",
      "execution_count": 24,
      "metadata": {
        "id": "lBoY23EYbk5f"
      },
      "outputs": [],
      "source": [
        "worklist_df['combined_text'] = worklist_df['combined_text'].apply(preprocess_text)"
      ]
    },
    {
      "cell_type": "code",
      "execution_count": 25,
      "metadata": {
        "id": "tGUPEx0nZQsY"
      },
      "outputs": [],
      "source": [
        "all_texts = worklist_df['combined_text'].tolist() + courses_df['tags'].tolist()\n"
      ]
    },
    {
      "cell_type": "markdown",
      "metadata": {
        "id": "KdMLkHj8cmRa"
      },
      "source": [
        "#TF-IDF"
      ]
    },
    {
      "cell_type": "code",
      "execution_count": 26,
      "metadata": {
        "id": "JhHFKOdrZSsE"
      },
      "outputs": [],
      "source": [
        "vectorizer = TfidfVectorizer(stop_words='english')\n",
        "vectors = vectorizer.fit_transform(all_texts)"
      ]
    },
    {
      "cell_type": "code",
      "execution_count": 27,
      "metadata": {
        "id": "MsYeiNweZUdk"
      },
      "outputs": [],
      "source": [
        "num_jobs = len(worklist_df)\n",
        "job_vectors = vectors[:num_jobs]\n",
        "course_vectors = vectors[num_jobs:]"
      ]
    },
    {
      "cell_type": "markdown",
      "metadata": {
        "id": "aUXQTpsBcsIl"
      },
      "source": [
        "#Cosine Similarity"
      ]
    },
    {
      "cell_type": "code",
      "execution_count": 29,
      "metadata": {
        "id": "AxSUTbGXZWJf"
      },
      "outputs": [],
      "source": [
        "similarity_matrix = cosine_similarity(job_vectors, course_vectors)"
      ]
    },
    {
      "cell_type": "code",
      "execution_count": 30,
      "metadata": {
        "id": "lL4qtw_9ZXpm"
      },
      "outputs": [],
      "source": [
        "new_df = pd.DataFrame({\n",
        "    'course_name': courses_df['Kursus'],\n",
        "    'course_url': courses_df['Course Link']\n",
        "})"
      ]
    },
    {
      "cell_type": "code",
      "execution_count": 31,
      "metadata": {
        "id": "37wUlsIOZaAs"
      },
      "outputs": [],
      "source": [
        "def recommend_courses_for_job(job_name, top_n=5):\n",
        "    matches = worklist_df[worklist_df['Job'].str.lower() == job_name.lower()]\n",
        "\n",
        "    if matches.empty:\n",
        "        print(\"Job Not Found\")\n",
        "        return []\n",
        "\n",
        "    job_index = matches.index[0]\n",
        "    similarity_scores = similarity_matrix[job_index]\n",
        "\n",
        "    recommended_indices = similarity_scores.argsort()[::-1][:top_n]\n",
        "\n",
        "    recommendations = []\n",
        "    for idx in recommended_indices:\n",
        "        course_title = new_df.iloc[idx]['course_name']\n",
        "        course_url = new_df.iloc[idx]['course_url']\n",
        "        recommendations.append({'name': course_title, 'url': course_url})\n",
        "\n",
        "    return recommendations"
      ]
    },
    {
      "cell_type": "markdown",
      "metadata": {
        "id": "drauIEhtcvWz"
      },
      "source": [
        "#Test"
      ]
    },
    {
      "cell_type": "code",
      "execution_count": 34,
      "metadata": {
        "colab": {
          "base_uri": "https://localhost:8080/"
        },
        "id": "PU24zmmYZcQ5",
        "outputId": "2a1dea8b-4f18-4ecb-a022-5ad40ff31291"
      },
      "outputs": [
        {
          "data": {
            "text/plain": [
              "[{'name': 'Principles of UX/UI Design',\n",
              "  'url': 'https://www.coursera.org/learn/principles-of-ux-ui-design'},\n",
              " {'name': 'UX/UI Design Fundamentals: Usability and Visual Principles',\n",
              "  'url': 'https://www.coursera.org/learn/uxui-design-fundamentals-usability-and-visual-principles'},\n",
              " {'name': 'IBM UI/UX Designer',\n",
              "  'url': 'https://www.coursera.org/professional-certificates/ibm-ui-ux-designer'},\n",
              " {'name': 'UI / UX Design',\n",
              "  'url': 'https://www.coursera.org/specializations/ui-ux-design'},\n",
              " {'name': 'UI/UX Wireframing and Prototyping\\xa0with Figma',\n",
              "  'url': 'https://www.coursera.org/learn/uiux-wireframing-and-prototyping-with-figma'},\n",
              " {'name': 'Fundamentals of UI/UX Design',\n",
              "  'url': 'https://www.coursera.org/learn/fundamentals-of-uiux-design'},\n",
              " {'name': 'Principios de diseño UX/UI',\n",
              "  'url': 'https://www.coursera.org/learn/principles-of-ux-ui-design-es'},\n",
              " {'name': 'Figma, Sketch & Miro for UX Design',\n",
              "  'url': 'https://www.coursera.org/professional-certificates/coursera-ux-design-toolkit'},\n",
              " {'name': 'Introduction to UI Design',\n",
              "  'url': 'https://www.coursera.org/learn/ui-design'},\n",
              " {'name': 'Interaction Design and UX/UI Principles',\n",
              "  'url': 'https://www.coursera.org/learn/xbox-interaction-design-and-ux-ui-principles'}]"
            ]
          },
          "execution_count": 34,
          "metadata": {},
          "output_type": "execute_result"
        }
      ],
      "source": [
        "recommend_courses_for_job('UI/UX Designer', top_n=10)"
      ]
    }
  ],
  "metadata": {
    "colab": {
      "provenance": []
    },
    "kernelspec": {
      "display_name": "Python 3",
      "name": "python3"
    },
    "language_info": {
      "codemirror_mode": {
        "name": "ipython",
        "version": 3
      },
      "file_extension": ".py",
      "mimetype": "text/x-python",
      "name": "python",
      "nbconvert_exporter": "python",
      "pygments_lexer": "ipython3",
      "version": "3.12.2"
    }
  },
  "nbformat": 4,
  "nbformat_minor": 0
}
